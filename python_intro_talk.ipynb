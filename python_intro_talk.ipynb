{
 "cells": [
  {
   "cell_type": "markdown",
   "metadata": {
    "slideshow": {
     "slide_type": "slide"
    }
   },
   "source": [
    "# Using Python for data analysis\n",
    "\n",
    "## Dirk Boonzajer Flaes"
   ]
  },
  {
   "cell_type": "markdown",
   "metadata": {
    "slideshow": {
     "slide_type": "slide"
    }
   },
   "source": [
    "# About me (Python-wise)\n",
    "I used python during my PhD:\n",
    "* for all data acquisition\n",
    "* for all data analysis\n",
    "* Very happy with the performance\n",
    "* All data analysis of Grin fiber PRL has been done in Python\n",
    "* Would love for you to try it out: [try it out at try.jupyter.org](try.jupyter.org)\n",
    "* Wrote some libraries to help processing transmission matrices which will be available online for whoever wants to use it\n"
   ]
  },
  {
   "cell_type": "markdown",
   "metadata": {
    "slideshow": {
     "slide_type": "slide"
    }
   },
   "source": [
    "# Outline of this talk\n",
    "\n",
    "* Motivation\n",
    "* Introduce Python\n",
    "    * Functions\n",
    "    * Working with matrices: Numpy\n",
    "    * Working with a video\n",
    "    * Package management\n",
    "* Ultimate aim: That you give python a try\n"
   ]
  },
  {
   "cell_type": "markdown",
   "metadata": {
    "slideshow": {
     "slide_type": "slide"
    }
   },
   "source": [
    "# About Python\n",
    "\n",
    "* Developed in early 1990's by Guido van Rossum (Netherlands!)\n",
    "* General purpose language designed to be easy to use\n",
    "* Not just data analysis, applications range from:\n",
    "    * Website hosting (such as [youtube](www.youtube.com)\n",
    "    * Data science\n",
    "    * Instrument control (through [pyVISA](https://pyvisa.readthedocs.io/en/master/))\n",
    "    * ... lots of other stuff available as well\n",
    "* Open source, free as in speech and free as in beer (PSF license, compatible with GPL)\n",
    "    * Means a 'free' graphics card every two years if you ditch matlab ;)"
   ]
  },
  {
   "cell_type": "markdown",
   "metadata": {
    "slideshow": {
     "slide_type": "slide"
    }
   },
   "source": [
    "# Jupyter notebook\n",
    "\n",
    "* Lots of different editors available\n",
    "* Can be daunting at first, recommend starting out with spyder and mainly jupyter \n",
    "* I mainly use Jupyter, which can even run matlab code\n",
    "* Latest convert: Large Synoptic Survey Telescope will host jupyter notebooks to do data analysis on a supercomputer from your laptop\n",
    "\n",
    "![Image of Yaktocat](./nature_jupyter.png)\n"
   ]
  },
  {
   "cell_type": "markdown",
   "metadata": {
    "slideshow": {
     "slide_type": "subslide"
    }
   },
   "source": [
    "# Getting started\n",
    "\n",
    "* Is easy! Just go to try.jupyter.org, no installation required!\n",
    "* Getting it to work properly:\n",
    "    * Install anaconda\n",
    "    * Install jupyter lab\n",
    "    * Install dependencies (I have a script)\n",
    "    * Run jupyter lab and you're good to go"
   ]
  },
  {
   "cell_type": "markdown",
   "metadata": {
    "slideshow": {
     "slide_type": "skip"
    }
   },
   "source": [
    "# Why would you change?\n",
    "\n",
    "Compared to Matlab, Python is...\n",
    "* Proper programming language\n",
    "* Easier to share and reproduce on different machines\n",
    "* Often more readable as indentation is required\n",
    "\n",
    "* Lots of different versions and IDE's  available. I recommend:\n",
    "    * [jupyter notebook](https://jupyter.org/) for exploratory analysis\n",
    "    * [Pycharm](Pycharm.org) for coding and debugging\n",
    "    * [Spyder](Spyder.org) for matlab-like interface\n",
    "    * [conda](https://www.anaconda.com/) for installation\n",
    "    "
   ]
  },
  {
   "cell_type": "markdown",
   "metadata": {
    "slideshow": {
     "slide_type": "slide"
    }
   },
   "source": [
    "# Python 101"
   ]
  },
  {
   "cell_type": "code",
   "execution_count": 1,
   "metadata": {},
   "outputs": [
    {
     "name": "stdout",
     "output_type": "stream",
     "text": [
      "5\n"
     ]
    }
   ],
   "source": [
    "# create a variable\n",
    "a = 2\n",
    "# and another one\n",
    "b = 3\n",
    "# add them\n",
    "c = a + b\n",
    "# show the result\n",
    "print(c)"
   ]
  },
  {
   "cell_type": "markdown",
   "metadata": {
    "slideshow": {
     "slide_type": "slide"
    }
   },
   "source": [
    "# Python 101\n",
    "\n",
    "Let's create a function and run it"
   ]
  },
  {
   "cell_type": "code",
   "execution_count": 2,
   "metadata": {},
   "outputs": [
    {
     "data": {
      "text/plain": [
       "3"
      ]
     },
     "execution_count": 2,
     "metadata": {},
     "output_type": "execute_result"
    }
   ],
   "source": [
    "# write a function\n",
    "def add(a, b):\n",
    "    \" Add two numbers a and b and return their sum \"\n",
    "    return a + b\n",
    "\n",
    "add(1,2)"
   ]
  },
  {
   "cell_type": "code",
   "execution_count": 3,
   "metadata": {},
   "outputs": [
    {
     "data": {
      "text/plain": [
       "-1"
      ]
     },
     "execution_count": 3,
     "metadata": {},
     "output_type": "execute_result"
    }
   ],
   "source": [
    "def subtract(a, b):\n",
    "    \" Subtract two numbers and return the difference \"\n",
    "    return a - b\n",
    "\n",
    "subtract(1,2)"
   ]
  },
  {
   "cell_type": "markdown",
   "metadata": {},
   "source": [
    "* Indentation is mandatory (4 spaces)\n",
    "* Docstring is optional but should be mandatory\n",
    "* return type can be anything"
   ]
  },
  {
   "cell_type": "markdown",
   "metadata": {
    "slideshow": {
     "slide_type": "subslide"
    }
   },
   "source": [
    "# Keyword arguments\n",
    "\n",
    "* Alter normal behaviour of a function."
   ]
  },
  {
   "cell_type": "code",
   "execution_count": 4,
   "metadata": {},
   "outputs": [
    {
     "name": "stdout",
     "output_type": "stream",
     "text": [
      "5\n",
      "The result of a + b =  5\n",
      "The result of a + b =  5\n"
     ]
    },
    {
     "data": {
      "text/plain": [
       "5"
      ]
     },
     "execution_count": 4,
     "metadata": {},
     "output_type": "execute_result"
    }
   ],
   "source": [
    "def add(a, b, printit=False):\n",
    "    \"\"\" Add two numbers a and b and return their sum.\n",
    "    If printit==True, print the result as well.\n",
    "    \"\"\"\n",
    "    result = a + b\n",
    "    if printit:\n",
    "        print('The result of a + b = ', result)\n",
    "    return result\n",
    "\n",
    "print(add(2,3))\n",
    "add(2, 3, True)\n",
    "add(2, 3, printit=True)"
   ]
  },
  {
   "cell_type": "markdown",
   "metadata": {
    "slideshow": {
     "slide_type": "subslide"
    }
   },
   "source": [
    "# Variable number of arguments\n",
    "\n",
    "* Supply any number of input points\n",
    "* keyword argument still works!"
   ]
  },
  {
   "cell_type": "code",
   "execution_count": 5,
   "metadata": {},
   "outputs": [
    {
     "name": "stdout",
     "output_type": "stream",
     "text": [
      "6\n",
      "The sum of the inputs is 15.\n"
     ]
    },
    {
     "data": {
      "text/plain": [
       "15"
      ]
     },
     "execution_count": 5,
     "metadata": {},
     "output_type": "execute_result"
    }
   ],
   "source": [
    "def add_all(*args, printit=False):\n",
    "    \"\"\" \n",
    "    Return the sum of the input arguments.\n",
    "    If printit==True, the result is printed as well.\n",
    "    \"\"\"\n",
    "    result = 0*args[0]\n",
    "    for number in args:\n",
    "        result += number\n",
    "    if printit:\n",
    "        print('The sum of the inputs is %g.' % result)\n",
    "    return result\n",
    "\n",
    "print(add_all(1,2,3))\n",
    "add_all(1,2,3,4,5, printit=True)"
   ]
  },
  {
   "cell_type": "markdown",
   "metadata": {
    "slideshow": {
     "slide_type": "slide"
    }
   },
   "source": [
    "# Package management"
   ]
  },
  {
   "cell_type": "markdown",
   "metadata": {},
   "source": [
    "* Store relevant functions together in a single file\n",
    "* Give file a meaningful name\n",
    "* Use it in the notebook, or a different python file:"
   ]
  },
  {
   "cell_type": "code",
   "execution_count": 6,
   "metadata": {},
   "outputs": [
    {
     "data": {
      "text/plain": [
       "20"
      ]
     },
     "execution_count": 6,
     "metadata": {},
     "output_type": "execute_result"
    }
   ],
   "source": [
    "from adder_subtractor import add_all\n",
    "add_all(2,3,4,5,6)\n"
   ]
  },
  {
   "cell_type": "markdown",
   "metadata": {},
   "source": [
    "* Can even be in a package \n",
    "* Easy to share"
   ]
  },
  {
   "cell_type": "markdown",
   "metadata": {
    "slideshow": {
     "slide_type": "slide"
    }
   },
   "source": [
    "# Package management\n",
    "\n",
    "Put functions with similar names in a file and import it\n",
    "```python\n",
    "    import my_awesome_library\n",
    "    from my_awesome_library import add\n",
    "```\n",
    "## Difference with Matlab:\n",
    "* Any number of functions allowed\n",
    "* Can be called from any location\n",
    "* Packages can be installed on the entire system\n",
    "* Installing most external packages requires _one_ command:\n",
    "    ```bash \n",
    "    pip install packagename\n",
    "    ```\n",
    "    * Or even\n",
    "    ```bash \n",
    "    pip install URL\n",
    "    ```"
   ]
  },
  {
   "cell_type": "markdown",
   "metadata": {
    "slideshow": {
     "slide_type": "slide"
    }
   },
   "source": [
    "# Real-world example\n",
    "\n",
    "Basic preprocessing of a transmission matrix requires about 20 functions."
   ]
  },
  {
   "cell_type": "markdown",
   "metadata": {},
   "source": [
    "![alt](drawing.svg)"
   ]
  },
  {
   "cell_type": "markdown",
   "metadata": {
    "slideshow": {
     "slide_type": "slide"
    }
   },
   "source": [
    "# Scientific Python 101\n",
    "* First, tell python we want to do number crunching\n",
    "* Default library: numpy (matlab-like functions)"
   ]
  },
  {
   "cell_type": "code",
   "execution_count": 7,
   "metadata": {
    "slideshow": {
     "slide_type": "skip"
    }
   },
   "outputs": [],
   "source": [
    "# make a nice style for plotting\n",
    "%matplotlib inline\n",
    "import matplotlib as mpl\n",
    "import matplotlib.pyplot as plt"
   ]
  },
  {
   "cell_type": "code",
   "execution_count": 8,
   "metadata": {},
   "outputs": [],
   "source": [
    "import numpy as np # import numerical stuff\n",
    "import matplotlib.pyplot as plt # import plotting stuff"
   ]
  },
  {
   "cell_type": "code",
   "execution_count": 9,
   "metadata": {
    "slideshow": {
     "slide_type": "fragment"
    }
   },
   "outputs": [
    {
     "data": {
      "text/plain": [
       "<matplotlib.legend.Legend at 0x7fd64ccb0080>"
      ]
     },
     "execution_count": 9,
     "metadata": {},
     "output_type": "execute_result"
    },
    {
     "data": {
      "image/png": "[encoded data removed]",
      "text/plain": [
       "<Figure size 650x169 with 1 Axes>"
      ]
     },
     "metadata": {},
     "output_type": "display_data"
    }
   ],
   "source": [
    "fig = plt.figure(figsize=(5,1.3), dpi=130)\n",
    "x = np.linspace(-2*np.pi, 2*np.pi,150)\n",
    "y = np.sinc(x)\n",
    "plt.xlabel('x')\n",
    "plt.ylabel('y')\n",
    "plt.plot(x,y, label=r'$\\frac{\\sin(x)}{x}$')\n",
    "plt.legend()"
   ]
  },
  {
   "cell_type": "markdown",
   "metadata": {
    "slideshow": {
     "slide_type": "slide"
    }
   },
   "source": [
    "# Getting started in matlab-experience?\n",
    "\n",
    "Don't like these imports? There's a package you can import to do it for you! ;)\n"
   ]
  },
  {
   "cell_type": "code",
   "execution_count": 10,
   "metadata": {
    "slideshow": {
     "slide_type": "-"
    }
   },
   "outputs": [
    {
     "data": {
      "image/png": "[encoded data removed]",
      "text/plain": [
       "<Figure size 650x169 with 1 Axes>"
      ]
     },
     "metadata": {},
     "output_type": "display_data"
    }
   ],
   "source": [
    "from pylab import *\n",
    "figure(figsize=(5,1.3), dpi=130)\n",
    "x = linspace(-2*pi, 2*pi,130)\n",
    "y = sinc(x)\n",
    "xlabel('x')\n",
    "ylabel('y')\n",
    "plot(x,y, label=r'$\\frac{\\sin(x)}{x}$')\n",
    "legend(loc=2, fancybox=False); \n",
    "show()"
   ]
  },
  {
   "cell_type": "markdown",
   "metadata": {
    "slideshow": {
     "slide_type": "slide"
    }
   },
   "source": [
    "# Arrays in python\n",
    "\n",
    "\n",
    "* More information: (quickstart guide)https://docs.scipy.org/doc/numpy/user/quickstart.html\n",
    "* Differences with matlab: [elaborate overview](https://docs.scipy.org/doc/numpy/user/numpy-for-matlab-users.html)\n",
    "* Matlab-to-python cheatsheet: [cheatsheet](http://mathesaurus.sourceforge.net/matlab-python-xref.pdf)\n"
   ]
  },
  {
   "cell_type": "code",
   "execution_count": 11,
   "metadata": {
    "slideshow": {
     "slide_type": "skip"
    }
   },
   "outputs": [],
   "source": [
    "np.set_printoptions(precision=2)"
   ]
  },
  {
   "cell_type": "code",
   "execution_count": 12,
   "metadata": {},
   "outputs": [
    {
     "name": "stdout",
     "output_type": "stream",
     "text": [
      "First element:  1\n",
      "22.199079362825653\n"
     ]
    }
   ],
   "source": [
    "# create two arrays\n",
    "a = np.array([1,2,3,4,5,6,7,8,9,10])\n",
    "b = np.cos(a/2/pi)\n",
    "# access the first element\n",
    "print('First element: ', a[0])\n",
    "# multiplication, same as .* in matlab\n",
    "a_times_b = a*b\n",
    "# dot product\n",
    "a_dot_b = a@b\n",
    "# dot product, option 2\n",
    "a_dot_b == a.dot(b)\n",
    "print(a_dot_b)\n",
    "assert(a.dot(b)==a@b)"
   ]
  },
  {
   "cell_type": "markdown",
   "metadata": {
    "slideshow": {
     "slide_type": "slide"
    }
   },
   "source": [
    "## Broadcasting\n",
    "Sometimes, you want to perform the same operation on all collumns/rows of a matrix. This can be done in an easy way, using _broadcasting_."
   ]
  },
  {
   "cell_type": "code",
   "execution_count": 13,
   "metadata": {},
   "outputs": [
    {
     "name": "stdout",
     "output_type": "stream",
     "text": [
      "a:\n",
      "[[1 2 3]\n",
      " [2 3 4]]\n",
      "b: [0.5 1.  2. ]\n"
     ]
    }
   ],
   "source": [
    "a = np.array([[1,2,3],[2,3,4]])\n",
    "b = np.array([0.5, 1, 2])\n",
    "print('a:')\n",
    "print(a)\n",
    "print('b:', b)"
   ]
  },
  {
   "cell_type": "markdown",
   "metadata": {
    "slideshow": {
     "slide_type": "slide"
    }
   },
   "source": [
    "## Broadcasting\n",
    "Sometimes, you want to perform the same operation on all collumns/rows of a matrix. This can be done in an easy way, using _broadcasting_."
   ]
  },
  {
   "cell_type": "code",
   "execution_count": 14,
   "metadata": {},
   "outputs": [
    {
     "name": "stdout",
     "output_type": "stream",
     "text": [
      "a:\n",
      " [[1 2 3]\n",
      " [2 3 4]]\n",
      "b:\n",
      " [0.5 1.  2. ]\n",
      "c:\n",
      " [[2 2 1]\n",
      " [4 3 2]]\n"
     ]
    }
   ],
   "source": [
    "# we can divide a by b, numpy figures out along which axis\n",
    "# slow way, dont use this!\n",
    "c = 0*a\n",
    "for i in range(2):\n",
    "    c[i] = a[i]/b\n",
    "    \n",
    "print('a:\\n', a)\n",
    "print('b:\\n', b)\n",
    "print('c:\\n', c)"
   ]
  },
  {
   "cell_type": "markdown",
   "metadata": {
    "slideshow": {
     "slide_type": "slide"
    }
   },
   "source": [
    "## Broadcasting\n",
    "Sometimes, you want to perform the same operation on all collumns/rows of a matrix. This can be done in an easy way, using _broadcasting_."
   ]
  },
  {
   "cell_type": "code",
   "execution_count": 15,
   "metadata": {},
   "outputs": [
    {
     "data": {
      "text/plain": [
       "array([[2. , 2. , 1.5],\n",
       "       [4. , 3. , 2. ]])"
      ]
     },
     "execution_count": 15,
     "metadata": {},
     "output_type": "execute_result"
    }
   ],
   "source": [
    "# fast way\n",
    "c = a / b\n",
    "c"
   ]
  },
  {
   "cell_type": "markdown",
   "metadata": {},
   "source": [
    "# Movie example!!"
   ]
  },
  {
   "cell_type": "markdown",
   "metadata": {
    "slideshow": {
     "slide_type": "subslide"
    }
   },
   "source": [
    "# Reshaping arrays\n",
    "\n",
    "* Can be with np.reshape\n",
    "* Also possible to access the .shape attribute in most cases"
   ]
  },
  {
   "cell_type": "code",
   "execution_count": 16,
   "metadata": {
    "slideshow": {
     "slide_type": "-"
    }
   },
   "outputs": [],
   "source": [
    "my_huge_matrix = np.random.rand(50,50,250,250)"
   ]
  },
  {
   "cell_type": "code",
   "execution_count": 17,
   "metadata": {
    "slideshow": {
     "slide_type": "-"
    }
   },
   "outputs": [
    {
     "name": "stdout",
     "output_type": "stream",
     "text": [
      "initial shape:  (50, 50, 250, 250)\n",
      "(2500, 62500)\n",
      "55.0\n"
     ]
    }
   ],
   "source": [
    "print('initial shape: ', my_huge_matrix.shape)\n",
    "ny, _, nx, _ = my_huge_matrix.shape\n",
    "my_huge_matrix.shape = ny*ny, nx*nx\n",
    "print(my_huge_matrix.shape)\n",
    "my_huge_matrix[0,0] = 55\n",
    "my_huge_matrix.shape = ny, ny, nx, nx\n",
    "print(my_huge_matrix[0,0,0,0])"
   ]
  },
  {
   "cell_type": "markdown",
   "metadata": {
    "slideshow": {
     "slide_type": "subslide"
    }
   },
   "source": [
    "## Reshaping is _fast_"
   ]
  },
  {
   "cell_type": "code",
   "execution_count": 18,
   "metadata": {
    "slideshow": {
     "slide_type": "-"
    }
   },
   "outputs": [
    {
     "name": "stdout",
     "output_type": "stream",
     "text": [
      "initial shape:  (50, 50, 250, 250)\n",
      "(50, 50, 250, 250)\n"
     ]
    }
   ],
   "source": [
    "my_huge_matrix = np.random.rand(50,50,250,250)\n",
    "print('initial shape: ', my_huge_matrix.shape)\n",
    "print(my_huge_matrix.shape)"
   ]
  },
  {
   "cell_type": "code",
   "execution_count": 19,
   "metadata": {
    "slideshow": {
     "slide_type": "-"
    }
   },
   "outputs": [
    {
     "name": "stdout",
     "output_type": "stream",
     "text": [
      "1.46 µs ± 28.6 ns per loop (mean ± std. dev. of 7 runs, 1000000 loops each)\n"
     ]
    }
   ],
   "source": [
    "%%timeit\n",
    "my_huge_matrix.shape = ny*ny, nx*nx\n",
    "my_huge_matrix[0,0] = 55\n",
    "my_huge_matrix.shape = ny,ny, nx,nx"
   ]
  },
  {
   "cell_type": "markdown",
   "metadata": {
    "slideshow": {
     "slide_type": "subslide"
    }
   },
   "source": [
    "## For the experts: keeping two views\n",
    "\n",
    "Create two arrays that share each other's memory."
   ]
  },
  {
   "cell_type": "code",
   "execution_count": 20,
   "metadata": {
    "slideshow": {
     "slide_type": "-"
    }
   },
   "outputs": [],
   "source": [
    "my_huge_matrix = np.random.rand(50,50,250,250)"
   ]
  },
  {
   "cell_type": "code",
   "execution_count": 21,
   "metadata": {
    "slideshow": {
     "slide_type": "-"
    }
   },
   "outputs": [
    {
     "name": "stdout",
     "output_type": "stream",
     "text": [
      "huge_matrix shape: (50, 50, 250, 250)\n",
      "view.shape: (2500, 250, 250)\n",
      "53.0\n"
     ]
    }
   ],
   "source": [
    "# Create an reference with a different shape but the same memory\n",
    "matrix_view = my_huge_matrix.view()\n",
    "matrix_view.shape = 50*50,250,250\n",
    "print('huge_matrix shape:', my_huge_matrix.shape)\n",
    "print('view.shape:', matrix_view.shape)\n",
    "matrix_view[0,0,0] = 53\n",
    "print(my_huge_matrix[0,0,0,0])"
   ]
  },
  {
   "cell_type": "markdown",
   "metadata": {
    "slideshow": {
     "slide_type": "slide"
    }
   },
   "source": [
    "# Where do I find ...\n",
    "\n",
    "* Image processing?\n",
    "    * Basic:\n",
    "    ```python \n",
    "    from scipy import ndimage```\n",
    "    * More advanced: scikits-image; \n",
    "    ```python\n",
    "       import skimage```\n",
    "* Reading/loading files?\n",
    "    * image i/o module : \n",
    "    ```python\n",
    "    import imageio``` \n",
    "    * Matlab files: `from scipy.io import loadmat`\n",
    "    * Hdf5: import h5py\n",
    "    * text files: numpy, `np.loadtxt`\n",
    "* Special functions (bessel, laguerre-gaussian, etc):\n",
    "    * ```scipy.special```\n",
    "    * most of it is implemented in numpy, just try `np.<my_function>`\n",
    "* Complex field visualisation?\n",
    "    * Ask dirk, he'll send you a link\n",
    "* Fancy library for transmission matrix alignment/analysis\n",
    "    * Ask Dirk, he'll send you the link.\n",
    "* Found some cool stuff? Adding a package?\n",
    "    * You just type `!conda install <my package name>`\n",
    "    "
   ]
  },
  {
   "cell_type": "markdown",
   "metadata": {
    "slideshow": {
     "slide_type": "slide"
    }
   },
   "source": [
    "# Advanced concepts I'm happy to talk about but not now:\n",
    "\n",
    "   * yield statement\n",
    "   * object oriented programming\n",
    "   * GPU programming\n",
    "   * how to create a shareable package\n",
    "   * (version control)\n",
    "   * parallel processing\n",
    "   * Speeding code up with Cython and the @jit decorator\n"
   ]
  },
  {
   "cell_type": "markdown",
   "metadata": {
    "slideshow": {
     "slide_type": "skip"
    }
   },
   "source": [
    "# Looking for Some feature [my feature]?\n",
    "\n",
    "1. Someone probably made it already\n",
    "2. Spend some time finding it on github\n"
   ]
  },
  {
   "cell_type": "markdown",
   "metadata": {
    "slideshow": {
     "slide_type": "slide"
    }
   },
   "source": [
    "# Speeding up parts of python\n",
    "\n",
    "* First rule: don't do any premature optimization, first find the functions that require most of the execution time after everything works\n",
    "* Use memoization for functions that are called a lot\n",
    "* Cython can be used to code in C [tutorial](http://docs.cython.org/en/latest/src/tutorial/numpy.html)\n",
    "* Time small pieces with the `%timeit` magic"
   ]
  },
  {
   "cell_type": "code",
   "execution_count": 22,
   "metadata": {},
   "outputs": [],
   "source": [
    "from scipy.special import jv, kv"
   ]
  },
  {
   "cell_type": "code",
   "execution_count": 23,
   "metadata": {},
   "outputs": [],
   "source": [
    "a = np.mgrid[-32:32, -32:32] / 32."
   ]
  },
  {
   "cell_type": "code",
   "execution_count": 24,
   "metadata": {},
   "outputs": [
    {
     "name": "stdout",
     "output_type": "stream",
     "text": [
      "192 ms ± 2.32 ms per loop (mean ± std. dev. of 7 runs, 1 loop each)\n"
     ]
    }
   ],
   "source": [
    "%%timeit \n",
    "for i in range(23):\n",
    "    jv(i,a.flat) / kv(i,a.flat)\n"
   ]
  },
  {
   "cell_type": "code",
   "execution_count": null,
   "metadata": {},
   "outputs": [],
   "source": []
  }
 ],
 "metadata": {
  "kernelspec": {
   "display_name": "Python 3",
   "language": "python",
   "name": "python3"
  },
  "language_info": {
   "codemirror_mode": {
    "name": "ipython",
    "version": 3
   },
   "file_extension": ".py",
   "mimetype": "text/x-python",
   "name": "python",
   "nbconvert_exporter": "python",
   "pygments_lexer": "ipython3",
   "version": "3.6.5"
  }
 },
 "nbformat": 4,
 "nbformat_minor": 2
}
