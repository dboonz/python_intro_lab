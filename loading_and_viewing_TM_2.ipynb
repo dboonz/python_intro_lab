{
 "cells": [
  {
   "cell_type": "markdown",
   "metadata": {},
   "source": [
    "# Visualising and operating on a transmission matrix"
   ]
  },
  {
   "cell_type": "code",
   "execution_count": 1,
   "metadata": {},
   "outputs": [
    {
     "name": "stdout",
     "output_type": "stream",
     "text": [
      "Populating the interactive namespace from numpy and matplotlib\n"
     ]
    }
   ],
   "source": [
    "%pylab inline\n",
    "%gui qt"
   ]
  },
  {
   "cell_type": "code",
   "execution_count": 2,
   "metadata": {},
   "outputs": [],
   "source": [
    "from ipywidgets import interact"
   ]
  },
  {
   "cell_type": "markdown",
   "metadata": {},
   "source": [
    "## First, create the visualisation tools that we'll need and a library to load images"
   ]
  },
  {
   "cell_type": "code",
   "execution_count": 3,
   "metadata": {},
   "outputs": [
    {
     "name": "stdout",
     "output_type": "stream",
     "text": [
      "Could not import cv2. Will still work but slower\n"
     ]
    }
   ],
   "source": [
    "import pyqtgraph as pg\n",
    "from field_visualisation.field_visualisation import show_field"
   ]
  },
  {
   "cell_type": "code",
   "execution_count": 4,
   "metadata": {},
   "outputs": [],
   "source": [
    "# create a viewer\n",
    "imv = pg.ImageView(view=pg.PlotItem())\n",
    "imv.show()"
   ]
  },
  {
   "cell_type": "markdown",
   "metadata": {},
   "source": [
    "## These we'll need for analysis of the transmission matrix"
   ]
  },
  {
   "cell_type": "code",
   "execution_count": 5,
   "metadata": {},
   "outputs": [
    {
     "name": "stdout",
     "output_type": "stream",
     "text": [
      "Loading...\n"
     ]
    }
   ],
   "source": [
    "from phyber_analyzer import transmission_matrix_preprocessing as tmp\n",
    "from phyber_analyzer import transmission_matrix_operations as tmo"
   ]
  },
  {
   "cell_type": "code",
   "execution_count": 6,
   "metadata": {},
   "outputs": [],
   "source": [
    "from ipywidgets import interact"
   ]
  },
  {
   "cell_type": "markdown",
   "metadata": {},
   "source": [
    "### Load input data"
   ]
  },
  {
   "cell_type": "code",
   "execution_count": 7,
   "metadata": {},
   "outputs": [],
   "source": [
    "TM2 = np.load('./TM_big.npz')['TM']"
   ]
  },
  {
   "cell_type": "code",
   "execution_count": 8,
   "metadata": {},
   "outputs": [
    {
     "name": "stdout",
     "output_type": "stream",
     "text": [
      "(33, 33, 75, 75)\n"
     ]
    }
   ],
   "source": [
    "# corresponds to a TM with 33x33 input pixels and 75x75 output pixels\n",
    "print(TM2.shape)"
   ]
  },
  {
   "cell_type": "code",
   "execution_count": 10,
   "metadata": {},
   "outputs": [
    {
     "data": {
      "image/png": "[encoded data removed]",
      "text/plain": [
       "<Figure size 921.6x633.6 with 1 Axes>"
      ]
     },
     "metadata": {},
     "output_type": "display_data"
    }
   ],
   "source": [
    "# show amplitude-phase picture\n",
    "with matplotlib.style.context(['seaborn-poster', 'seaborn-colorblind']):\n",
    "    yy, xx = np.mgrid[-50:50, -50:50] - 0.5\n",
    "    rr = np.hypot(yy,xx)\n",
    "    rr[rr>50] = None\n",
    "    ph = np.angle(yy+1j*xx)\n",
    "    field = rr * np.exp(1j*ph)\n",
    "    \n",
    "    show_field(field, ax=gca());\n",
    "    arrow(50,50,50, 0, color='white', width=3, length_includes_head=True)\n",
    "    annotate('$\\Re$', xy=(75,60), fontsize=40, color='white')\n",
    "    annotate('$\\Im}$', xy=(55,25), fontsize=40, color='white')\n",
    "    arrow(50,50,0, -50, color='white', width=3, length_includes_head=True)"
   ]
  },
  {
   "cell_type": "code",
   "execution_count": 11,
   "metadata": {},
   "outputs": [],
   "source": [
    "# first, show the fields of the transmission matrix\n",
    "ndist = TM2.shape[-1]\n",
    "show_field(TM2.reshape(-1, ndist, ndist), imv)\n",
    "pass"
   ]
  },
  {
   "cell_type": "code",
   "execution_count": 9,
   "metadata": {},
   "outputs": [],
   "source": [
    "# There is still a clear tilt of the field corresponding to the angle between the distal camera and the reference"
   ]
  },
  {
   "cell_type": "code",
   "execution_count": 12,
   "metadata": {},
   "outputs": [],
   "source": [
    "from ipywidgets import interact"
   ]
  },
  {
   "cell_type": "code",
   "execution_count": 13,
   "metadata": {},
   "outputs": [
    {
     "data": {
      "application/vnd.jupyter.widget-view+json": {
       "model_id": "57e491ec6b1b4e4bbc353d37b090f190",
       "version_major": 2,
       "version_minor": 0
      },
      "text/plain": [
       "interactive(children=(IntSlider(value=15, description='idx_y', max=45, min=-15), IntSlider(value=15, descripti…"
      ]
     },
     "metadata": {},
     "output_type": "display_data"
    }
   ],
   "source": [
    "@interact\n",
    "def show_TM(idx_y=15, idx_x=15, show_farfield=False):\n",
    "    field = TM2[idx_y, idx_x]\n",
    "    if show_farfield:\n",
    "        field = fftshift(fft2(ifftshift(field)))\n",
    "    show_field(field, imv, ax=gca())"
   ]
  },
  {
   "cell_type": "code",
   "execution_count": 14,
   "metadata": {},
   "outputs": [
    {
     "data": {
      "image/png": "[encoded data removed]",
      "text/plain": [
       "<Figure size 432x288 with 4 Axes>"
      ]
     },
     "metadata": {},
     "output_type": "display_data"
    }
   ],
   "source": [
    "fig = figure()\n",
    "tmp.plot_averaged_projections(TM2, fig)\n",
    "for ax in fig.axes:\n",
    "    ax.xaxis.set_visible(False)\n",
    "    ax.yaxis.set_visible(False)"
   ]
  },
  {
   "cell_type": "code",
   "execution_count": 15,
   "metadata": {},
   "outputs": [
    {
     "data": {
      "image/png": "[encoded data removed]",
      "text/plain": [
       "<Figure size 576x288 with 8 Axes>"
      ]
     },
     "metadata": {},
     "output_type": "display_data"
    }
   ],
   "source": [
    "# Center the data of the transmission matrix\n",
    "\n",
    "\n",
    "fig = figure(figsize=(8,4))\n",
    "for ax in fig.axes:\n",
    "    ax.xaxis.set_ticks([])\n",
    "    ax.yaxis.set_ticks([])\n",
    "tight_layout()\n",
    "TM_centered, misalignments = tmp.center_TM(TM2, figure=fig)"
   ]
  },
  {
   "cell_type": "code",
   "execution_count": 17,
   "metadata": {},
   "outputs": [],
   "source": [
    "# clip the transmission matrix\n",
    "av_proj = tmo.averaged_projection(TM_centered, location=3)\n",
    "imv.setImage(av_proj)"
   ]
  },
  {
   "cell_type": "code",
   "execution_count": 18,
   "metadata": {},
   "outputs": [],
   "source": [
    "# find the area that we will need\n",
    "filter_mask = av_proj > 1000\n",
    "imv.setImage(filter_mask)"
   ]
  },
  {
   "cell_type": "code",
   "execution_count": 19,
   "metadata": {},
   "outputs": [
    {
     "name": "stdout",
     "output_type": "stream",
     "text": [
      "(49, 49)\n"
     ]
    }
   ],
   "source": [
    "from scipy import ndimage\n",
    "sy, sx = ndimage.find_objects(filter_mask)[0]\n",
    "print(TM_centered[0,0][sy, sx].shape)\n",
    "imv.setImage(av_proj[sy, sx])"
   ]
  },
  {
   "cell_type": "code",
   "execution_count": 20,
   "metadata": {},
   "outputs": [],
   "source": [
    "TM_ff = tmo.TM_FFT(TM_centered)\n",
    "# filter all the distal fields in-place\n",
    "TM_ff *= filter_mask\n",
    "# take out only the central part\n",
    "TM_ff = TM_ff[:, :, sy, sx]\n",
    "TM_ds = tmo.TM_FFT(TM_ff, inverse=True)\n",
    "# center it once more for good measure\n",
    "TM_ds, _ = tmp.center_TM(TM_ds)"
   ]
  },
  {
   "cell_type": "markdown",
   "metadata": {},
   "source": [
    "## Check that the results make sense"
   ]
  },
  {
   "cell_type": "code",
   "execution_count": 22,
   "metadata": {},
   "outputs": [
    {
     "data": {
      "application/vnd.jupyter.widget-view+json": {
       "model_id": "dce1ffddb45b44c98f8a57e3df617e2e",
       "version_major": 2,
       "version_minor": 0
      },
      "text/plain": [
       "interactive(children=(IntSlider(value=15, description='idx_y', max=45, min=-15), IntSlider(value=15, descripti…"
      ]
     },
     "metadata": {},
     "output_type": "display_data"
    }
   ],
   "source": [
    "@interact\n",
    "def show_TM(idx_y=15, idx_x=15, show_farfield=False, show_original=False):\n",
    "    \n",
    "    field = TM_ds[idx_y, idx_x]\n",
    "    if show_original:\n",
    "        field = TM_centered[idx_y, idx_x]\n",
    "    if show_farfield:\n",
    "        field = fftshift(fft2(ifftshift(field)))\n",
    "    show_field(field, imv, ax=gca())"
   ]
  },
  {
   "cell_type": "markdown",
   "metadata": {},
   "source": [
    "## Optional: center in a different way by analyzing symmetry of the farfield"
   ]
  },
  {
   "cell_type": "code",
   "execution_count": 23,
   "metadata": {},
   "outputs": [],
   "source": [
    "# analyze symmetry\n",
    "def TM_symmetry(TM):\n",
    "    TM_I = TM\n",
    "    # norm all of them\n",
    "    TM_I /= np.linalg.norm(TM_I, axis=(-2,-1))[:,:,None,None] + 0.01\n",
    "    TM_flipped = TM_I[:,:,::-1,::-1]\n",
    "    TM_flipped2 = TM_I[...,::-1,:]\n",
    "    TM_flipped3 = TM_I[...,::-1]\n",
    "    difference = 3*TM_I-TM_flipped-TM_flipped2-TM_flipped3\n",
    "    imv.setImage(abs(difference).reshape(-1,75,75))\n",
    "    pg.QtGui.QApplication.processEvents()\n",
    "    return 0.25*np.linalg.norm(difference, axis=(-2,-1))\n",
    "symmetry_score = TM_symmetry(TM_centered)"
   ]
  },
  {
   "cell_type": "code",
   "execution_count": 127,
   "metadata": {},
   "outputs": [],
   "source": [
    "FF_TM = tmo.TM_FFT(TM_centered, side=0)\n",
    "FF_TM.shape = 33**2, 75**2"
   ]
  },
  {
   "cell_type": "code",
   "execution_count": 171,
   "metadata": {},
   "outputs": [],
   "source": [
    "def symmetry(shifts, FF_TM=FF_TM):\n",
    "    nd = int(np.sqrt(FF_TM.shape[0]))\n",
    "    nprox = int(np.sqrt(FF_TM.shape[1]))\n",
    "    centered_image = np.ones((nd, nd))\n",
    "    centered_image = fftshift(ndimage.fourier_shift(centered_image, shifts))\n",
    "    centered_image.shape = nd*nd\n",
    "    output_field = np.reshape(centered_image@FF_TM, [nprox, nprox])\n",
    "    show_field(output_field, imv)\n",
    "    pg.QtGui.QApplication.processEvents()\n",
    "    output_field /= np.linalg.norm(output_field)\n",
    "    return analyze_symmetry(output_field)\n",
    "\n",
    "def analyze_symmetry(field):\n",
    "    \n",
    "    field_flipped = field[::-1,::-1]\n",
    "    field_ud = np.flipud(field)\n",
    "    field_lr = np.fliplr(field)\n",
    "    return 1./4*np.linalg.norm(3*field - field_flipped - field_ud - field_lr)"
   ]
  },
  {
   "cell_type": "code",
   "execution_count": 147,
   "metadata": {},
   "outputs": [],
   "source": [
    "from scipy.optimize import fmin"
   ]
  },
  {
   "cell_type": "code",
   "execution_count": 156,
   "metadata": {},
   "outputs": [],
   "source": [
    "FF_TM_FF = tmo.TM_FFT(FF_TM, side=1)"
   ]
  },
  {
   "cell_type": "code",
   "execution_count": 173,
   "metadata": {},
   "outputs": [
    {
     "name": "stdout",
     "output_type": "stream",
     "text": [
      "Optimization terminated successfully.\n",
      "         Current function value: 0.504244\n",
      "         Iterations: 50\n",
      "         Function evaluations: 94\n"
     ]
    },
    {
     "data": {
      "text/plain": [
       "array([-0.12,  0.05])"
      ]
     },
     "execution_count": 173,
     "metadata": {},
     "output_type": "execute_result"
    }
   ],
   "source": [
    "fmin(lambda x: symmetry(x, FF_TM=FF_TM_FF.T), [0,.2])"
   ]
  },
  {
   "cell_type": "code",
   "execution_count": 174,
   "metadata": {},
   "outputs": [
    {
     "name": "stdout",
     "output_type": "stream",
     "text": [
      "Optimization terminated successfully.\n",
      "         Current function value: 0.375676\n",
      "         Iterations: 45\n",
      "         Function evaluations: 87\n"
     ]
    },
    {
     "data": {
      "text/plain": [
       "array([ 0.04, -0.01])"
      ]
     },
     "execution_count": 174,
     "metadata": {},
     "output_type": "execute_result"
    }
   ],
   "source": [
    "fmin(lambda x: symmetry(x, FF_TM=FF_TM_FF), [0,.2])"
   ]
  },
  {
   "cell_type": "code",
   "execution_count": 138,
   "metadata": {},
   "outputs": [
    {
     "data": {
      "text/plain": [
       "631.0369042435656"
      ]
     },
     "execution_count": 138,
     "metadata": {},
     "output_type": "execute_result"
    }
   ],
   "source": [
    "symmetry([0,0])"
   ]
  },
  {
   "cell_type": "code",
   "execution_count": 102,
   "metadata": {},
   "outputs": [],
   "source": [
    "imv.setImage(symmetry_score)"
   ]
  },
  {
   "cell_type": "code",
   "execution_count": 77,
   "metadata": {
    "collapsed": true,
    "jupyter": {
     "outputs_hidden": true
    }
   },
   "outputs": [
    {
     "data": {
      "text/plain": [
       "array([[[[0.  , 0.05, 0.04],\n",
       "         [0.  , 0.01, 0.03],\n",
       "         [0.04, 0.  , 0.05],\n",
       "         ...,\n",
       "         [0.04, 0.04, 0.  ],\n",
       "         [0.05, 0.05, 0.  ],\n",
       "         [0.04, 0.01, 0.  ]],\n",
       "\n",
       "        [[0.  , 0.03, 0.05],\n",
       "         [0.01, 0.  , 0.04],\n",
       "         [0.05, 0.  , 0.02],\n",
       "         ...,\n",
       "         [0.  , 0.01, 0.  ],\n",
       "         [0.02, 0.02, 0.  ],\n",
       "         [0.04, 0.02, 0.  ]],\n",
       "\n",
       "        [[0.  , 0.  , 0.04],\n",
       "         [0.02, 0.  , 0.01],\n",
       "         [0.06, 0.02, 0.  ],\n",
       "         ...,\n",
       "         [0.  , 0.03, 0.06],\n",
       "         [0.  , 0.04, 0.05],\n",
       "         [0.  , 0.01, 0.  ]],\n",
       "\n",
       "        ...,\n",
       "\n",
       "        [[0.02, 0.  , 0.02],\n",
       "         [0.05, 0.  , 0.01],\n",
       "         [0.05, 0.  , 0.05],\n",
       "         ...,\n",
       "         [0.  , 0.01, 0.04],\n",
       "         [0.  , 0.03, 0.02],\n",
       "         [0.03, 0.03, 0.  ]],\n",
       "\n",
       "        [[0.  , 0.04, 0.  ],\n",
       "         [0.01, 0.02, 0.  ],\n",
       "         [0.01, 0.  , 0.01],\n",
       "         ...,\n",
       "         [0.  , 0.05, 0.04],\n",
       "         [0.  , 0.05, 0.01],\n",
       "         [0.05, 0.06, 0.  ]],\n",
       "\n",
       "        [[0.02, 0.04, 0.  ],\n",
       "         [0.03, 0.05, 0.  ],\n",
       "         [0.  , 0.04, 0.01],\n",
       "         ...,\n",
       "         [0.  , 0.06, 0.03],\n",
       "         [0.05, 0.07, 0.  ],\n",
       "         [0.08, 0.06, 0.  ]]],\n",
       "\n",
       "\n",
       "       [[[0.  , 0.05, 0.02],\n",
       "         [0.  , 0.04, 0.04],\n",
       "         [0.  , 0.  , 0.03],\n",
       "         ...,\n",
       "         [0.  , 0.02, 0.  ],\n",
       "         [0.  , 0.05, 0.03],\n",
       "         [0.  , 0.06, 0.04]],\n",
       "\n",
       "        [[0.  , 0.03, 0.03],\n",
       "         [0.01, 0.  , 0.03],\n",
       "         [0.01, 0.  , 0.01],\n",
       "         ...,\n",
       "         [0.05, 0.  , 0.  ],\n",
       "         [0.02, 0.  , 0.  ],\n",
       "         [0.  , 0.01, 0.01]],\n",
       "\n",
       "        [[0.  , 0.  , 0.01],\n",
       "         [0.04, 0.  , 0.01],\n",
       "         [0.05, 0.  , 0.  ],\n",
       "         ...,\n",
       "         [0.04, 0.01, 0.  ],\n",
       "         [0.03, 0.  , 0.  ],\n",
       "         [0.02, 0.  , 0.02]],\n",
       "\n",
       "        ...,\n",
       "\n",
       "        [[0.  , 0.03, 0.01],\n",
       "         [0.  , 0.07, 0.05],\n",
       "         [0.  , 0.04, 0.03],\n",
       "         ...,\n",
       "         [0.  , 0.02, 0.02],\n",
       "         [0.05, 0.02, 0.  ],\n",
       "         [0.09, 0.  , 0.  ]],\n",
       "\n",
       "        [[0.02, 0.  , 0.01],\n",
       "         [0.  , 0.02, 0.05],\n",
       "         [0.  , 0.03, 0.06],\n",
       "         ...,\n",
       "         [0.04, 0.  , 0.  ],\n",
       "         [0.08, 0.  , 0.02],\n",
       "         [0.05, 0.  , 0.04]],\n",
       "\n",
       "        [[0.04, 0.  , 0.01],\n",
       "         [0.01, 0.  , 0.05],\n",
       "         [0.01, 0.  , 0.1 ],\n",
       "         ...,\n",
       "         [0.03, 0.04, 0.  ],\n",
       "         [0.01, 0.  , 0.  ],\n",
       "         [0.  , 0.02, 0.03]]],\n",
       "\n",
       "\n",
       "       [[[0.03, 0.03, 0.  ],\n",
       "         [0.  , 0.01, 0.01],\n",
       "         [0.  , 0.01, 0.  ],\n",
       "         ...,\n",
       "         [0.03, 0.01, 0.  ],\n",
       "         [0.04, 0.04, 0.  ],\n",
       "         [0.01, 0.04, 0.  ]],\n",
       "\n",
       "        [[0.01, 0.  , 0.01],\n",
       "         [0.01, 0.  , 0.01],\n",
       "         [0.02, 0.  , 0.  ],\n",
       "         ...,\n",
       "         [0.  , 0.  , 0.01],\n",
       "         [0.02, 0.01, 0.  ],\n",
       "         [0.  , 0.04, 0.  ]],\n",
       "\n",
       "        [[0.  , 0.01, 0.03],\n",
       "         [0.  , 0.  , 0.  ],\n",
       "         [0.04, 0.02, 0.  ],\n",
       "         ...,\n",
       "         [0.02, 0.  , 0.04],\n",
       "         [0.03, 0.  , 0.03],\n",
       "         [0.02, 0.  , 0.02]],\n",
       "\n",
       "        ...,\n",
       "\n",
       "        [[0.  , 0.04, 0.09],\n",
       "         [0.01, 0.  , 0.06],\n",
       "         [0.02, 0.  , 0.  ],\n",
       "         ...,\n",
       "         [0.  , 0.05, 0.03],\n",
       "         [0.  , 0.03, 0.  ],\n",
       "         [0.01, 0.01, 0.  ]],\n",
       "\n",
       "        [[0.  , 0.03, 0.06],\n",
       "         [0.  , 0.01, 0.09],\n",
       "         [0.04, 0.  , 0.05],\n",
       "         ...,\n",
       "         [0.04, 0.02, 0.  ],\n",
       "         [0.05, 0.  , 0.  ],\n",
       "         [0.04, 0.01, 0.  ]],\n",
       "\n",
       "        [[0.01, 0.02, 0.  ],\n",
       "         [0.  , 0.03, 0.06],\n",
       "         [0.  , 0.  , 0.04],\n",
       "         ...,\n",
       "         [0.07, 0.  , 0.03],\n",
       "         [0.06, 0.  , 0.02],\n",
       "         [0.03, 0.01, 0.  ]]],\n",
       "\n",
       "\n",
       "       ...,\n",
       "\n",
       "\n",
       "       [[[0.  , 0.  , 0.  ],\n",
       "         [0.  , 0.  , 0.  ],\n",
       "         [0.  , 0.  , 0.  ],\n",
       "         ...,\n",
       "         [0.  , 0.  , 0.  ],\n",
       "         [0.  , 0.  , 0.  ],\n",
       "         [0.  , 0.  , 0.  ]],\n",
       "\n",
       "        [[0.  , 0.  , 0.  ],\n",
       "         [0.  , 0.  , 0.  ],\n",
       "         [0.  , 0.  , 0.  ],\n",
       "         ...,\n",
       "         [0.  , 0.  , 0.  ],\n",
       "         [0.  , 0.  , 0.  ],\n",
       "         [0.  , 0.  , 0.  ]],\n",
       "\n",
       "        [[0.  , 0.  , 0.  ],\n",
       "         [0.  , 0.  , 0.  ],\n",
       "         [0.  , 0.  , 0.  ],\n",
       "         ...,\n",
       "         [0.  , 0.  , 0.  ],\n",
       "         [0.  , 0.  , 0.  ],\n",
       "         [0.  , 0.  , 0.  ]],\n",
       "\n",
       "        ...,\n",
       "\n",
       "        [[0.  , 0.  , 0.  ],\n",
       "         [0.  , 0.  , 0.  ],\n",
       "         [0.  , 0.  , 0.  ],\n",
       "         ...,\n",
       "         [0.  , 0.  , 0.  ],\n",
       "         [0.  , 0.  , 0.  ],\n",
       "         [0.  , 0.  , 0.  ]],\n",
       "\n",
       "        [[0.  , 0.  , 0.  ],\n",
       "         [0.  , 0.  , 0.  ],\n",
       "         [0.  , 0.  , 0.  ],\n",
       "         ...,\n",
       "         [0.  , 0.  , 0.  ],\n",
       "         [0.  , 0.  , 0.  ],\n",
       "         [0.  , 0.  , 0.  ]],\n",
       "\n",
       "        [[0.  , 0.  , 0.  ],\n",
       "         [0.  , 0.  , 0.  ],\n",
       "         [0.  , 0.  , 0.  ],\n",
       "         ...,\n",
       "         [0.  , 0.  , 0.  ],\n",
       "         [0.  , 0.  , 0.  ],\n",
       "         [0.  , 0.  , 0.  ]]],\n",
       "\n",
       "\n",
       "       [[[0.  , 0.  , 0.  ],\n",
       "         [0.  , 0.  , 0.  ],\n",
       "         [0.  , 0.  , 0.  ],\n",
       "         ...,\n",
       "         [0.  , 0.  , 0.  ],\n",
       "         [0.  , 0.  , 0.  ],\n",
       "         [0.  , 0.  , 0.  ]],\n",
       "\n",
       "        [[0.  , 0.  , 0.  ],\n",
       "         [0.  , 0.  , 0.  ],\n",
       "         [0.  , 0.  , 0.  ],\n",
       "         ...,\n",
       "         [0.  , 0.  , 0.  ],\n",
       "         [0.  , 0.  , 0.  ],\n",
       "         [0.  , 0.  , 0.  ]],\n",
       "\n",
       "        [[0.  , 0.  , 0.  ],\n",
       "         [0.  , 0.  , 0.  ],\n",
       "         [0.  , 0.  , 0.  ],\n",
       "         ...,\n",
       "         [0.  , 0.  , 0.  ],\n",
       "         [0.  , 0.  , 0.  ],\n",
       "         [0.  , 0.  , 0.  ]],\n",
       "\n",
       "        ...,\n",
       "\n",
       "        [[0.  , 0.  , 0.  ],\n",
       "         [0.  , 0.  , 0.  ],\n",
       "         [0.  , 0.  , 0.  ],\n",
       "         ...,\n",
       "         [0.  , 0.  , 0.  ],\n",
       "         [0.  , 0.  , 0.  ],\n",
       "         [0.  , 0.  , 0.  ]],\n",
       "\n",
       "        [[0.  , 0.  , 0.  ],\n",
       "         [0.  , 0.  , 0.  ],\n",
       "         [0.  , 0.  , 0.  ],\n",
       "         ...,\n",
       "         [0.  , 0.  , 0.  ],\n",
       "         [0.  , 0.  , 0.  ],\n",
       "         [0.  , 0.  , 0.  ]],\n",
       "\n",
       "        [[0.  , 0.  , 0.  ],\n",
       "         [0.  , 0.  , 0.  ],\n",
       "         [0.  , 0.  , 0.  ],\n",
       "         ...,\n",
       "         [0.  , 0.  , 0.  ],\n",
       "         [0.  , 0.  , 0.  ],\n",
       "         [0.  , 0.  , 0.  ]]],\n",
       "\n",
       "\n",
       "       [[[0.  , 0.  , 0.  ],\n",
       "         [0.  , 0.  , 0.  ],\n",
       "         [0.  , 0.  , 0.  ],\n",
       "         ...,\n",
       "         [0.  , 0.  , 0.  ],\n",
       "         [0.  , 0.  , 0.  ],\n",
       "         [0.  , 0.  , 0.  ]],\n",
       "\n",
       "        [[0.  , 0.  , 0.  ],\n",
       "         [0.  , 0.  , 0.  ],\n",
       "         [0.  , 0.  , 0.  ],\n",
       "         ...,\n",
       "         [0.  , 0.  , 0.  ],\n",
       "         [0.  , 0.  , 0.  ],\n",
       "         [0.  , 0.  , 0.  ]],\n",
       "\n",
       "        [[0.  , 0.  , 0.  ],\n",
       "         [0.  , 0.  , 0.  ],\n",
       "         [0.  , 0.  , 0.  ],\n",
       "         ...,\n",
       "         [0.  , 0.  , 0.  ],\n",
       "         [0.  , 0.  , 0.  ],\n",
       "         [0.  , 0.  , 0.  ]],\n",
       "\n",
       "        ...,\n",
       "\n",
       "        [[0.  , 0.  , 0.  ],\n",
       "         [0.  , 0.  , 0.  ],\n",
       "         [0.  , 0.  , 0.  ],\n",
       "         ...,\n",
       "         [0.  , 0.  , 0.  ],\n",
       "         [0.  , 0.  , 0.  ],\n",
       "         [0.  , 0.  , 0.  ]],\n",
       "\n",
       "        [[0.  , 0.  , 0.  ],\n",
       "         [0.  , 0.  , 0.  ],\n",
       "         [0.  , 0.  , 0.  ],\n",
       "         ...,\n",
       "         [0.  , 0.  , 0.  ],\n",
       "         [0.  , 0.  , 0.  ],\n",
       "         [0.  , 0.  , 0.  ]],\n",
       "\n",
       "        [[0.  , 0.  , 0.  ],\n",
       "         [0.  , 0.  , 0.  ],\n",
       "         [0.  , 0.  , 0.  ],\n",
       "         ...,\n",
       "         [0.  , 0.  , 0.  ],\n",
       "         [0.  , 0.  , 0.  ],\n",
       "         [0.  , 0.  , 0.  ]]]])"
      ]
     },
     "execution_count": 77,
     "metadata": {},
     "output_type": "execute_result"
    }
   ],
   "source": [
    "show_field(TM_centered.reshape(-1,75,75), imv)"
   ]
  },
  {
   "cell_type": "code",
   "execution_count": 69,
   "metadata": {},
   "outputs": [],
   "source": [
    "phase_exp = fftshift(ndimage.fourier.fourier_shift(np.ones((75,75)), [16.68,17.81]))"
   ]
  },
  {
   "cell_type": "code",
   "execution_count": 71,
   "metadata": {},
   "outputs": [],
   "source": [
    "TM_fields *= phase_exp"
   ]
  },
  {
   "cell_type": "code",
   "execution_count": 72,
   "metadata": {
    "collapsed": true,
    "jupyter": {
     "outputs_hidden": true
    }
   },
   "outputs": [
    {
     "data": {
      "text/plain": [
       "array([[[[0.  , 0.05, 0.04],\n",
       "         [0.  , 0.01, 0.03],\n",
       "         [0.04, 0.  , 0.05],\n",
       "         ...,\n",
       "         [0.04, 0.04, 0.  ],\n",
       "         [0.05, 0.05, 0.  ],\n",
       "         [0.04, 0.01, 0.  ]],\n",
       "\n",
       "        [[0.  , 0.03, 0.05],\n",
       "         [0.01, 0.  , 0.04],\n",
       "         [0.05, 0.  , 0.02],\n",
       "         ...,\n",
       "         [0.  , 0.01, 0.  ],\n",
       "         [0.02, 0.02, 0.  ],\n",
       "         [0.04, 0.02, 0.  ]],\n",
       "\n",
       "        [[0.  , 0.  , 0.04],\n",
       "         [0.02, 0.  , 0.01],\n",
       "         [0.06, 0.02, 0.  ],\n",
       "         ...,\n",
       "         [0.  , 0.03, 0.06],\n",
       "         [0.  , 0.04, 0.05],\n",
       "         [0.  , 0.01, 0.  ]],\n",
       "\n",
       "        ...,\n",
       "\n",
       "        [[0.02, 0.  , 0.02],\n",
       "         [0.05, 0.  , 0.01],\n",
       "         [0.05, 0.  , 0.05],\n",
       "         ...,\n",
       "         [0.  , 0.01, 0.04],\n",
       "         [0.  , 0.03, 0.02],\n",
       "         [0.03, 0.03, 0.  ]],\n",
       "\n",
       "        [[0.  , 0.04, 0.  ],\n",
       "         [0.01, 0.02, 0.  ],\n",
       "         [0.01, 0.  , 0.01],\n",
       "         ...,\n",
       "         [0.  , 0.05, 0.04],\n",
       "         [0.  , 0.05, 0.01],\n",
       "         [0.05, 0.06, 0.  ]],\n",
       "\n",
       "        [[0.02, 0.04, 0.  ],\n",
       "         [0.03, 0.05, 0.  ],\n",
       "         [0.  , 0.04, 0.01],\n",
       "         ...,\n",
       "         [0.  , 0.06, 0.03],\n",
       "         [0.05, 0.07, 0.  ],\n",
       "         [0.08, 0.06, 0.  ]]],\n",
       "\n",
       "\n",
       "       [[[0.  , 0.05, 0.02],\n",
       "         [0.  , 0.04, 0.04],\n",
       "         [0.  , 0.  , 0.03],\n",
       "         ...,\n",
       "         [0.  , 0.02, 0.  ],\n",
       "         [0.  , 0.05, 0.03],\n",
       "         [0.  , 0.06, 0.04]],\n",
       "\n",
       "        [[0.  , 0.03, 0.03],\n",
       "         [0.01, 0.  , 0.03],\n",
       "         [0.01, 0.  , 0.01],\n",
       "         ...,\n",
       "         [0.05, 0.  , 0.  ],\n",
       "         [0.02, 0.  , 0.  ],\n",
       "         [0.  , 0.01, 0.01]],\n",
       "\n",
       "        [[0.  , 0.  , 0.01],\n",
       "         [0.04, 0.  , 0.01],\n",
       "         [0.05, 0.  , 0.  ],\n",
       "         ...,\n",
       "         [0.04, 0.01, 0.  ],\n",
       "         [0.03, 0.  , 0.  ],\n",
       "         [0.02, 0.  , 0.02]],\n",
       "\n",
       "        ...,\n",
       "\n",
       "        [[0.  , 0.03, 0.01],\n",
       "         [0.  , 0.07, 0.05],\n",
       "         [0.  , 0.04, 0.03],\n",
       "         ...,\n",
       "         [0.  , 0.02, 0.02],\n",
       "         [0.05, 0.02, 0.  ],\n",
       "         [0.09, 0.  , 0.  ]],\n",
       "\n",
       "        [[0.02, 0.  , 0.01],\n",
       "         [0.  , 0.02, 0.05],\n",
       "         [0.  , 0.03, 0.06],\n",
       "         ...,\n",
       "         [0.04, 0.  , 0.  ],\n",
       "         [0.08, 0.  , 0.02],\n",
       "         [0.05, 0.  , 0.04]],\n",
       "\n",
       "        [[0.04, 0.  , 0.01],\n",
       "         [0.01, 0.  , 0.05],\n",
       "         [0.01, 0.  , 0.1 ],\n",
       "         ...,\n",
       "         [0.03, 0.04, 0.  ],\n",
       "         [0.01, 0.  , 0.  ],\n",
       "         [0.  , 0.02, 0.03]]],\n",
       "\n",
       "\n",
       "       [[[0.03, 0.03, 0.  ],\n",
       "         [0.  , 0.01, 0.01],\n",
       "         [0.  , 0.01, 0.  ],\n",
       "         ...,\n",
       "         [0.03, 0.01, 0.  ],\n",
       "         [0.04, 0.04, 0.  ],\n",
       "         [0.01, 0.04, 0.  ]],\n",
       "\n",
       "        [[0.01, 0.  , 0.01],\n",
       "         [0.01, 0.  , 0.01],\n",
       "         [0.02, 0.  , 0.  ],\n",
       "         ...,\n",
       "         [0.  , 0.  , 0.01],\n",
       "         [0.02, 0.01, 0.  ],\n",
       "         [0.  , 0.04, 0.  ]],\n",
       "\n",
       "        [[0.  , 0.01, 0.03],\n",
       "         [0.  , 0.  , 0.  ],\n",
       "         [0.04, 0.02, 0.  ],\n",
       "         ...,\n",
       "         [0.02, 0.  , 0.04],\n",
       "         [0.03, 0.  , 0.03],\n",
       "         [0.02, 0.  , 0.02]],\n",
       "\n",
       "        ...,\n",
       "\n",
       "        [[0.  , 0.04, 0.09],\n",
       "         [0.01, 0.  , 0.06],\n",
       "         [0.02, 0.  , 0.  ],\n",
       "         ...,\n",
       "         [0.  , 0.05, 0.03],\n",
       "         [0.  , 0.03, 0.  ],\n",
       "         [0.01, 0.01, 0.  ]],\n",
       "\n",
       "        [[0.  , 0.03, 0.06],\n",
       "         [0.  , 0.01, 0.09],\n",
       "         [0.04, 0.  , 0.05],\n",
       "         ...,\n",
       "         [0.04, 0.02, 0.  ],\n",
       "         [0.05, 0.  , 0.  ],\n",
       "         [0.04, 0.01, 0.  ]],\n",
       "\n",
       "        [[0.01, 0.02, 0.  ],\n",
       "         [0.  , 0.03, 0.06],\n",
       "         [0.  , 0.  , 0.04],\n",
       "         ...,\n",
       "         [0.07, 0.  , 0.03],\n",
       "         [0.06, 0.  , 0.02],\n",
       "         [0.03, 0.01, 0.  ]]],\n",
       "\n",
       "\n",
       "       ...,\n",
       "\n",
       "\n",
       "       [[[0.05, 0.  , 0.05],\n",
       "         [0.01, 0.02, 0.  ],\n",
       "         [0.  , 0.05, 0.  ],\n",
       "         ...,\n",
       "         [0.05, 0.02, 0.  ],\n",
       "         [0.05, 0.  , 0.03],\n",
       "         [0.05, 0.  , 0.06]],\n",
       "\n",
       "        [[0.02, 0.01, 0.  ],\n",
       "         [0.02, 0.04, 0.  ],\n",
       "         [0.  , 0.04, 0.02],\n",
       "         ...,\n",
       "         [0.01, 0.02, 0.  ],\n",
       "         [0.01, 0.  , 0.  ],\n",
       "         [0.04, 0.  , 0.06]],\n",
       "\n",
       "        [[0.03, 0.04, 0.  ],\n",
       "         [0.03, 0.04, 0.  ],\n",
       "         [0.  , 0.02, 0.03],\n",
       "         ...,\n",
       "         [0.  , 0.04, 0.02],\n",
       "         [0.  , 0.03, 0.  ],\n",
       "         [0.  , 0.03, 0.04]],\n",
       "\n",
       "        ...,\n",
       "\n",
       "        [[0.01, 0.01, 0.  ],\n",
       "         [0.04, 0.  , 0.01],\n",
       "         [0.04, 0.  , 0.04],\n",
       "         ...,\n",
       "         [0.03, 0.  , 0.01],\n",
       "         [0.05, 0.  , 0.01],\n",
       "         [0.01, 0.02, 0.  ]],\n",
       "\n",
       "        [[0.01, 0.03, 0.  ],\n",
       "         [0.04, 0.05, 0.  ],\n",
       "         [0.05, 0.02, 0.  ],\n",
       "         ...,\n",
       "         [0.09, 0.  , 0.  ],\n",
       "         [0.06, 0.01, 0.  ],\n",
       "         [0.01, 0.01, 0.  ]],\n",
       "\n",
       "        [[0.  , 0.02, 0.02],\n",
       "         [0.01, 0.05, 0.  ],\n",
       "         [0.06, 0.06, 0.  ],\n",
       "         ...,\n",
       "         [0.05, 0.  , 0.01],\n",
       "         [0.  , 0.02, 0.01],\n",
       "         [0.  , 0.05, 0.04]]],\n",
       "\n",
       "\n",
       "       [[[0.05, 0.01, 0.  ],\n",
       "         [0.03, 0.02, 0.  ],\n",
       "         [0.02, 0.  , 0.02],\n",
       "         ...,\n",
       "         [0.  , 0.  , 0.02],\n",
       "         [0.  , 0.  , 0.06],\n",
       "         [0.  , 0.  , 0.05]],\n",
       "\n",
       "        [[0.05, 0.02, 0.  ],\n",
       "         [0.  , 0.02, 0.01],\n",
       "         [0.  , 0.01, 0.03],\n",
       "         ...,\n",
       "         [0.  , 0.02, 0.  ],\n",
       "         [0.  , 0.02, 0.03],\n",
       "         [0.  , 0.01, 0.04]],\n",
       "\n",
       "        [[0.01, 0.03, 0.  ],\n",
       "         [0.  , 0.05, 0.05],\n",
       "         [0.  , 0.02, 0.03],\n",
       "         ...,\n",
       "         [0.06, 0.06, 0.  ],\n",
       "         [0.01, 0.03, 0.  ],\n",
       "         [0.  , 0.01, 0.  ]],\n",
       "\n",
       "        ...,\n",
       "\n",
       "        [[0.02, 0.  , 0.02],\n",
       "         [0.  , 0.  , 0.  ],\n",
       "         [0.  , 0.01, 0.01],\n",
       "         ...,\n",
       "         [0.  , 0.03, 0.  ],\n",
       "         [0.08, 0.  , 0.01],\n",
       "         [0.09, 0.  , 0.05]],\n",
       "\n",
       "        [[0.01, 0.01, 0.  ],\n",
       "         [0.05, 0.  , 0.04],\n",
       "         [0.03, 0.  , 0.03],\n",
       "         ...,\n",
       "         [0.01, 0.01, 0.  ],\n",
       "         [0.08, 0.  , 0.02],\n",
       "         [0.03, 0.  , 0.02]],\n",
       "\n",
       "        [[0.04, 0.04, 0.  ],\n",
       "         [0.02, 0.01, 0.  ],\n",
       "         [0.03, 0.  , 0.02],\n",
       "         ...,\n",
       "         [0.06, 0.  , 0.  ],\n",
       "         [0.07, 0.  , 0.03],\n",
       "         [0.  , 0.  , 0.03]]],\n",
       "\n",
       "\n",
       "       [[[0.02, 0.01, 0.  ],\n",
       "         [0.03, 0.03, 0.  ],\n",
       "         [0.04, 0.04, 0.  ],\n",
       "         ...,\n",
       "         [0.  , 0.  , 0.  ],\n",
       "         [0.  , 0.01, 0.02],\n",
       "         [0.  , 0.02, 0.04]],\n",
       "\n",
       "        [[0.04, 0.04, 0.  ],\n",
       "         [0.01, 0.  , 0.  ],\n",
       "         [0.02, 0.  , 0.01],\n",
       "         ...,\n",
       "         [0.04, 0.02, 0.  ],\n",
       "         [0.06, 0.05, 0.  ],\n",
       "         [0.05, 0.03, 0.  ]],\n",
       "\n",
       "        [[0.01, 0.02, 0.  ],\n",
       "         [0.01, 0.  , 0.01],\n",
       "         [0.02, 0.  , 0.03],\n",
       "         ...,\n",
       "         [0.  , 0.  , 0.01],\n",
       "         [0.01, 0.03, 0.  ],\n",
       "         [0.08, 0.07, 0.  ]],\n",
       "\n",
       "        ...,\n",
       "\n",
       "        [[0.03, 0.  , 0.02],\n",
       "         [0.02, 0.03, 0.  ],\n",
       "         [0.02, 0.05, 0.  ],\n",
       "         ...,\n",
       "         [0.  , 0.08, 0.07],\n",
       "         [0.01, 0.03, 0.  ],\n",
       "         [0.06, 0.  , 0.05]],\n",
       "\n",
       "        [[0.03, 0.  , 0.04],\n",
       "         [0.  , 0.  , 0.01],\n",
       "         [0.  , 0.03, 0.  ],\n",
       "         ...,\n",
       "         [0.  , 0.01, 0.  ],\n",
       "         [0.05, 0.  , 0.02],\n",
       "         [0.1 , 0.  , 0.09]],\n",
       "\n",
       "        [[0.02, 0.  , 0.05],\n",
       "         [0.01, 0.  , 0.03],\n",
       "         [0.01, 0.  , 0.04],\n",
       "         ...,\n",
       "         [0.06, 0.01, 0.  ],\n",
       "         [0.08, 0.  , 0.01],\n",
       "         [0.07, 0.  , 0.05]]]])"
      ]
     },
     "execution_count": 72,
     "metadata": {},
     "output_type": "execute_result"
    }
   ],
   "source": [
    "show_field(TM_fields.reshape(-1,75,75), imv)"
   ]
  },
  {
   "cell_type": "code",
   "execution_count": 58,
   "metadata": {},
   "outputs": [],
   "source": [
    "TM_centered,center_pos = tmp.center_TM(TM_padded, locations=[3,])"
   ]
  },
  {
   "cell_type": "code",
   "execution_count": 59,
   "metadata": {},
   "outputs": [
    {
     "data": {
      "text/plain": [
       "array([[16.68, 17.81],\n",
       "       [ 0.  ,  0.  ],\n",
       "       [ 0.  ,  0.  ],\n",
       "       [ 0.  ,  0.  ]])"
      ]
     },
     "execution_count": 59,
     "metadata": {},
     "output_type": "execute_result"
    }
   ],
   "source": [
    "center_pos"
   ]
  },
  {
   "cell_type": "code",
   "execution_count": 19,
   "metadata": {
    "collapsed": true,
    "jupyter": {
     "outputs_hidden": true
    }
   },
   "outputs": [
    {
     "data": {
      "text/plain": [
       "array([[[[0.  , 0.05, 0.04],\n",
       "         [0.  , 0.03, 0.05],\n",
       "         [0.  , 0.  , 0.04],\n",
       "         ...,\n",
       "         [0.02, 0.  , 0.02],\n",
       "         [0.  , 0.04, 0.  ],\n",
       "         [0.02, 0.04, 0.  ]],\n",
       "\n",
       "        [[0.  , 0.01, 0.03],\n",
       "         [0.01, 0.  , 0.04],\n",
       "         [0.02, 0.  , 0.01],\n",
       "         ...,\n",
       "         [0.05, 0.  , 0.01],\n",
       "         [0.01, 0.02, 0.  ],\n",
       "         [0.03, 0.05, 0.  ]],\n",
       "\n",
       "        [[0.04, 0.  , 0.05],\n",
       "         [0.05, 0.  , 0.02],\n",
       "         [0.06, 0.02, 0.  ],\n",
       "         ...,\n",
       "         [0.05, 0.  , 0.05],\n",
       "         [0.01, 0.  , 0.01],\n",
       "         [0.  , 0.04, 0.01]],\n",
       "\n",
       "        ...,\n",
       "\n",
       "        [[0.04, 0.04, 0.  ],\n",
       "         [0.  , 0.01, 0.  ],\n",
       "         [0.  , 0.03, 0.06],\n",
       "         ...,\n",
       "         [0.  , 0.01, 0.04],\n",
       "         [0.  , 0.05, 0.04],\n",
       "         [0.  , 0.06, 0.03]],\n",
       "\n",
       "        [[0.05, 0.05, 0.  ],\n",
       "         [0.02, 0.02, 0.  ],\n",
       "         [0.  , 0.04, 0.05],\n",
       "         ...,\n",
       "         [0.  , 0.03, 0.02],\n",
       "         [0.  , 0.05, 0.01],\n",
       "         [0.05, 0.07, 0.  ]],\n",
       "\n",
       "        [[0.04, 0.01, 0.  ],\n",
       "         [0.04, 0.01, 0.  ],\n",
       "         [0.  , 0.01, 0.  ],\n",
       "         ...,\n",
       "         [0.03, 0.03, 0.  ],\n",
       "         [0.05, 0.06, 0.  ],\n",
       "         [0.08, 0.05, 0.  ]]],\n",
       "\n",
       "\n",
       "       [[[0.  , 0.05, 0.02],\n",
       "         [0.  , 0.03, 0.03],\n",
       "         [0.  , 0.  , 0.01],\n",
       "         ...,\n",
       "         [0.  , 0.03, 0.01],\n",
       "         [0.02, 0.  , 0.01],\n",
       "         [0.04, 0.  , 0.01]],\n",
       "\n",
       "        [[0.  , 0.04, 0.04],\n",
       "         [0.01, 0.  , 0.03],\n",
       "         [0.04, 0.  , 0.01],\n",
       "         ...,\n",
       "         [0.  , 0.07, 0.05],\n",
       "         [0.  , 0.02, 0.05],\n",
       "         [0.01, 0.  , 0.05]],\n",
       "\n",
       "        [[0.  , 0.  , 0.03],\n",
       "         [0.01, 0.  , 0.01],\n",
       "         [0.05, 0.  , 0.  ],\n",
       "         ...,\n",
       "         [0.  , 0.04, 0.04],\n",
       "         [0.  , 0.03, 0.06],\n",
       "         [0.01, 0.  , 0.1 ]],\n",
       "\n",
       "        ...,\n",
       "\n",
       "        [[0.  , 0.02, 0.  ],\n",
       "         [0.05, 0.  , 0.  ],\n",
       "         [0.04, 0.01, 0.  ],\n",
       "         ...,\n",
       "         [0.  , 0.02, 0.02],\n",
       "         [0.04, 0.  , 0.  ],\n",
       "         [0.03, 0.04, 0.  ]],\n",
       "\n",
       "        [[0.  , 0.05, 0.03],\n",
       "         [0.02, 0.  , 0.  ],\n",
       "         [0.03, 0.  , 0.  ],\n",
       "         ...,\n",
       "         [0.05, 0.02, 0.  ],\n",
       "         [0.08, 0.  , 0.02],\n",
       "         [0.01, 0.  , 0.  ]],\n",
       "\n",
       "        [[0.  , 0.06, 0.04],\n",
       "         [0.  , 0.01, 0.01],\n",
       "         [0.02, 0.  , 0.02],\n",
       "         ...,\n",
       "         [0.09, 0.  , 0.  ],\n",
       "         [0.05, 0.  , 0.04],\n",
       "         [0.  , 0.02, 0.03]]],\n",
       "\n",
       "\n",
       "       [[[0.03, 0.03, 0.  ],\n",
       "         [0.01, 0.  , 0.01],\n",
       "         [0.  , 0.01, 0.03],\n",
       "         ...,\n",
       "         [0.  , 0.04, 0.09],\n",
       "         [0.  , 0.03, 0.06],\n",
       "         [0.01, 0.02, 0.  ]],\n",
       "\n",
       "        [[0.  , 0.01, 0.01],\n",
       "         [0.01, 0.  , 0.01],\n",
       "         [0.  , 0.  , 0.  ],\n",
       "         ...,\n",
       "         [0.01, 0.  , 0.06],\n",
       "         [0.  , 0.01, 0.09],\n",
       "         [0.  , 0.03, 0.06]],\n",
       "\n",
       "        [[0.  , 0.01, 0.  ],\n",
       "         [0.02, 0.  , 0.  ],\n",
       "         [0.04, 0.02, 0.  ],\n",
       "         ...,\n",
       "         [0.02, 0.  , 0.  ],\n",
       "         [0.04, 0.  , 0.05],\n",
       "         [0.  , 0.  , 0.04]],\n",
       "\n",
       "        ...,\n",
       "\n",
       "        [[0.03, 0.01, 0.  ],\n",
       "         [0.  , 0.  , 0.01],\n",
       "         [0.02, 0.  , 0.04],\n",
       "         ...,\n",
       "         [0.  , 0.05, 0.03],\n",
       "         [0.04, 0.02, 0.  ],\n",
       "         [0.07, 0.  , 0.03]],\n",
       "\n",
       "        [[0.04, 0.04, 0.  ],\n",
       "         [0.02, 0.01, 0.  ],\n",
       "         [0.03, 0.  , 0.03],\n",
       "         ...,\n",
       "         [0.  , 0.03, 0.  ],\n",
       "         [0.05, 0.  , 0.  ],\n",
       "         [0.06, 0.  , 0.02]],\n",
       "\n",
       "        [[0.02, 0.04, 0.  ],\n",
       "         [0.  , 0.04, 0.  ],\n",
       "         [0.02, 0.  , 0.02],\n",
       "         ...,\n",
       "         [0.01, 0.01, 0.  ],\n",
       "         [0.04, 0.01, 0.  ],\n",
       "         [0.03, 0.01, 0.  ]]],\n",
       "\n",
       "\n",
       "       ...,\n",
       "\n",
       "\n",
       "       [[[0.  , 0.  , 0.  ],\n",
       "         [0.  , 0.  , 0.  ],\n",
       "         [0.  , 0.  , 0.  ],\n",
       "         ...,\n",
       "         [0.  , 0.  , 0.  ],\n",
       "         [0.  , 0.  , 0.  ],\n",
       "         [0.  , 0.  , 0.  ]],\n",
       "\n",
       "        [[0.  , 0.  , 0.  ],\n",
       "         [0.  , 0.  , 0.  ],\n",
       "         [0.  , 0.  , 0.  ],\n",
       "         ...,\n",
       "         [0.  , 0.  , 0.  ],\n",
       "         [0.  , 0.  , 0.  ],\n",
       "         [0.  , 0.  , 0.  ]],\n",
       "\n",
       "        [[0.  , 0.  , 0.  ],\n",
       "         [0.  , 0.  , 0.  ],\n",
       "         [0.  , 0.  , 0.  ],\n",
       "         ...,\n",
       "         [0.  , 0.  , 0.  ],\n",
       "         [0.  , 0.  , 0.  ],\n",
       "         [0.  , 0.  , 0.  ]],\n",
       "\n",
       "        ...,\n",
       "\n",
       "        [[0.  , 0.  , 0.  ],\n",
       "         [0.  , 0.  , 0.  ],\n",
       "         [0.  , 0.  , 0.  ],\n",
       "         ...,\n",
       "         [0.  , 0.  , 0.  ],\n",
       "         [0.  , 0.  , 0.  ],\n",
       "         [0.  , 0.  , 0.  ]],\n",
       "\n",
       "        [[0.  , 0.  , 0.  ],\n",
       "         [0.  , 0.  , 0.  ],\n",
       "         [0.  , 0.  , 0.  ],\n",
       "         ...,\n",
       "         [0.  , 0.  , 0.  ],\n",
       "         [0.  , 0.  , 0.  ],\n",
       "         [0.  , 0.  , 0.  ]],\n",
       "\n",
       "        [[0.  , 0.  , 0.  ],\n",
       "         [0.  , 0.  , 0.  ],\n",
       "         [0.  , 0.  , 0.  ],\n",
       "         ...,\n",
       "         [0.  , 0.  , 0.  ],\n",
       "         [0.  , 0.  , 0.  ],\n",
       "         [0.  , 0.  , 0.  ]]],\n",
       "\n",
       "\n",
       "       [[[0.  , 0.  , 0.  ],\n",
       "         [0.  , 0.  , 0.  ],\n",
       "         [0.  , 0.  , 0.  ],\n",
       "         ...,\n",
       "         [0.  , 0.  , 0.  ],\n",
       "         [0.  , 0.  , 0.  ],\n",
       "         [0.  , 0.  , 0.  ]],\n",
       "\n",
       "        [[0.  , 0.  , 0.  ],\n",
       "         [0.  , 0.  , 0.  ],\n",
       "         [0.  , 0.  , 0.  ],\n",
       "         ...,\n",
       "         [0.  , 0.  , 0.  ],\n",
       "         [0.  , 0.  , 0.  ],\n",
       "         [0.  , 0.  , 0.  ]],\n",
       "\n",
       "        [[0.  , 0.  , 0.  ],\n",
       "         [0.  , 0.  , 0.  ],\n",
       "         [0.  , 0.  , 0.  ],\n",
       "         ...,\n",
       "         [0.  , 0.  , 0.  ],\n",
       "         [0.  , 0.  , 0.  ],\n",
       "         [0.  , 0.  , 0.  ]],\n",
       "\n",
       "        ...,\n",
       "\n",
       "        [[0.  , 0.  , 0.  ],\n",
       "         [0.  , 0.  , 0.  ],\n",
       "         [0.  , 0.  , 0.  ],\n",
       "         ...,\n",
       "         [0.  , 0.  , 0.  ],\n",
       "         [0.  , 0.  , 0.  ],\n",
       "         [0.  , 0.  , 0.  ]],\n",
       "\n",
       "        [[0.  , 0.  , 0.  ],\n",
       "         [0.  , 0.  , 0.  ],\n",
       "         [0.  , 0.  , 0.  ],\n",
       "         ...,\n",
       "         [0.  , 0.  , 0.  ],\n",
       "         [0.  , 0.  , 0.  ],\n",
       "         [0.  , 0.  , 0.  ]],\n",
       "\n",
       "        [[0.  , 0.  , 0.  ],\n",
       "         [0.  , 0.  , 0.  ],\n",
       "         [0.  , 0.  , 0.  ],\n",
       "         ...,\n",
       "         [0.  , 0.  , 0.  ],\n",
       "         [0.  , 0.  , 0.  ],\n",
       "         [0.  , 0.  , 0.  ]]],\n",
       "\n",
       "\n",
       "       [[[0.  , 0.  , 0.  ],\n",
       "         [0.  , 0.  , 0.  ],\n",
       "         [0.  , 0.  , 0.  ],\n",
       "         ...,\n",
       "         [0.  , 0.  , 0.  ],\n",
       "         [0.  , 0.  , 0.  ],\n",
       "         [0.  , 0.  , 0.  ]],\n",
       "\n",
       "        [[0.  , 0.  , 0.  ],\n",
       "         [0.  , 0.  , 0.  ],\n",
       "         [0.  , 0.  , 0.  ],\n",
       "         ...,\n",
       "         [0.  , 0.  , 0.  ],\n",
       "         [0.  , 0.  , 0.  ],\n",
       "         [0.  , 0.  , 0.  ]],\n",
       "\n",
       "        [[0.  , 0.  , 0.  ],\n",
       "         [0.  , 0.  , 0.  ],\n",
       "         [0.  , 0.  , 0.  ],\n",
       "         ...,\n",
       "         [0.  , 0.  , 0.  ],\n",
       "         [0.  , 0.  , 0.  ],\n",
       "         [0.  , 0.  , 0.  ]],\n",
       "\n",
       "        ...,\n",
       "\n",
       "        [[0.  , 0.  , 0.  ],\n",
       "         [0.  , 0.  , 0.  ],\n",
       "         [0.  , 0.  , 0.  ],\n",
       "         ...,\n",
       "         [0.  , 0.  , 0.  ],\n",
       "         [0.  , 0.  , 0.  ],\n",
       "         [0.  , 0.  , 0.  ]],\n",
       "\n",
       "        [[0.  , 0.  , 0.  ],\n",
       "         [0.  , 0.  , 0.  ],\n",
       "         [0.  , 0.  , 0.  ],\n",
       "         ...,\n",
       "         [0.  , 0.  , 0.  ],\n",
       "         [0.  , 0.  , 0.  ],\n",
       "         [0.  , 0.  , 0.  ]],\n",
       "\n",
       "        [[0.  , 0.  , 0.  ],\n",
       "         [0.  , 0.  , 0.  ],\n",
       "         [0.  , 0.  , 0.  ],\n",
       "         ...,\n",
       "         [0.  , 0.  , 0.  ],\n",
       "         [0.  , 0.  , 0.  ],\n",
       "         [0.  , 0.  , 0.  ]]]])"
      ]
     },
     "execution_count": 19,
     "metadata": {},
     "output_type": "execute_result"
    }
   ],
   "source": [
    "show_field(TM_centered.reshape(31*31,75,75), imv)\n",
    "pass"
   ]
  }
 ],
 "metadata": {
  "kernelspec": {
   "display_name": "Python 3",
   "language": "python",
   "name": "python3"
  },
  "language_info": {
   "codemirror_mode": {
    "name": "ipython",
    "version": 3
   },
   "file_extension": ".py",
   "mimetype": "text/x-python",
   "name": "python",
   "nbconvert_exporter": "python",
   "pygments_lexer": "ipython3",
   "version": "3.6.5"
  }
 },
 "nbformat": 4,
 "nbformat_minor": 2
}
